{
  "cells": [
    {
      "cell_type": "markdown",
      "metadata": {
        "id": "view-in-github",
        "colab_type": "text"
      },
      "source": [
        "<a href=\"https://colab.research.google.com/github/razvanratoi/Energy-Management-System/blob/main/full_dataset_may.ipynb\" target=\"_parent\"><img src=\"https://colab.research.google.com/assets/colab-badge.svg\" alt=\"Open In Colab\"/></a>"
      ]
    },
    {
      "cell_type": "code",
      "source": [
        "! pip install concrete-ml"
      ],
      "metadata": {
        "id": "ZyVn9Q6VwDv3"
      },
      "execution_count": null,
      "outputs": []
    },
    {
      "cell_type": "code",
      "source": [
        "import pandas as pd\n",
        "import numpy as np\n",
        "from joblib import load, dump\n",
        "import matplotlib.pyplot as plt\n",
        "from pathlib import Path\n",
        "from datetime import datetime, timedelta\n",
        "from google.colab import drive\n",
        "drive.mount('/content/drive')\n",
        "\n",
        "folder_path = '/content/drive/My Drive/datasets'"
      ],
      "metadata": {
        "id": "Sj4yVBMVxGBG",
        "outputId": "6101dbbb-6372-478c-988b-a621f32a7e1a",
        "colab": {
          "base_uri": "https://localhost:8080/"
        }
      },
      "execution_count": 1,
      "outputs": [
        {
          "output_type": "stream",
          "name": "stdout",
          "text": [
            "Drive already mounted at /content/drive; to attempt to forcibly remount, call drive.mount(\"/content/drive\", force_remount=True).\n"
          ]
        }
      ]
    },
    {
      "cell_type": "code",
      "source": [
        "train_df = pd.read_csv(f'{folder_path}/updated_train.csv')\n",
        "test_df = pd.read_csv(f'{folder_path}/updated_test.csv')"
      ],
      "metadata": {
        "id": "_G8h0RpXy9d8"
      },
      "execution_count": 2,
      "outputs": []
    },
    {
      "cell_type": "code",
      "source": [
        "features = ['POD', 'DayOfWeek', 'HourOfDay', 'Month',\n",
        "       'Day', 'Lag1_TotalActiveEnergy', 'Week_of_Year', 'Quarter', 'Year',\n",
        "        'Lag2_TotalActiveEnergy', 'Lag3_TotalActiveEnergy',\n",
        "       'RollingMean_3H', 'RollingStd_3H', 'RollingMean_6H', 'RollingStd_6H',\n",
        "       'RollingMean_12H', 'RollingStd_12H', 'HourOfDay_sin', 'HourOfDay_cos',\n",
        "       'DayOfWeek_sin', 'DayOfWeek_cos', 'HourDay_Interaction',\n",
        "       'CumulativeEnergy']\n",
        "\n",
        "targets = ['TotalActiveEnergy']\n",
        "\n",
        "df = pd.concat([train_df, test_df])"
      ],
      "metadata": {
        "id": "sn-m0bFezoGP"
      },
      "execution_count": 3,
      "outputs": []
    },
    {
      "cell_type": "code",
      "source": [
        "from sklearn.preprocessing import StandardScaler\n",
        "from sklearn.metrics import mean_squared_error, r2_score\n",
        "\n",
        "X_train = train_df[features]\n",
        "y_train = train_df[targets]\n",
        "X_test = test_df[features]\n",
        "y_test = test_df[targets]\n",
        "\n",
        "scaler = StandardScaler()\n",
        "X_train_scaled = scaler.fit_transform(X_train)\n",
        "X_test_scaled = scaler.transform(X_test)"
      ],
      "metadata": {
        "id": "dlpTp48o0ome"
      },
      "execution_count": 4,
      "outputs": []
    },
    {
      "cell_type": "code",
      "source": [
        "from concrete.ml.sklearn.xgb import XGBRegressor\n",
        "\n",
        "xgb = XGBRegressor(n_estimators=200)\n",
        "xgb.fit(X_train_scaled, y_train)"
      ],
      "metadata": {
        "id": "1s7z9k6N1fkX",
        "outputId": "fa7b37db-0e51-44be-9a80-2e2cc6228f05",
        "colab": {
          "base_uri": "https://localhost:8080/",
          "height": 74
        }
      },
      "execution_count": 6,
      "outputs": [
        {
          "output_type": "execute_result",
          "data": {
            "text/plain": [
              "XGBRegressor(n_bits={'op_inputs': 6, 'op_leaves': 6}, n_estimators=200)"
            ],
            "text/html": [
              "<style>#sk-container-id-1 {color: black;background-color: white;}#sk-container-id-1 pre{padding: 0;}#sk-container-id-1 div.sk-toggleable {background-color: white;}#sk-container-id-1 label.sk-toggleable__label {cursor: pointer;display: block;width: 100%;margin-bottom: 0;padding: 0.3em;box-sizing: border-box;text-align: center;}#sk-container-id-1 label.sk-toggleable__label-arrow:before {content: \"▸\";float: left;margin-right: 0.25em;color: #696969;}#sk-container-id-1 label.sk-toggleable__label-arrow:hover:before {color: black;}#sk-container-id-1 div.sk-estimator:hover label.sk-toggleable__label-arrow:before {color: black;}#sk-container-id-1 div.sk-toggleable__content {max-height: 0;max-width: 0;overflow: hidden;text-align: left;background-color: #f0f8ff;}#sk-container-id-1 div.sk-toggleable__content pre {margin: 0.2em;color: black;border-radius: 0.25em;background-color: #f0f8ff;}#sk-container-id-1 input.sk-toggleable__control:checked~div.sk-toggleable__content {max-height: 200px;max-width: 100%;overflow: auto;}#sk-container-id-1 input.sk-toggleable__control:checked~label.sk-toggleable__label-arrow:before {content: \"▾\";}#sk-container-id-1 div.sk-estimator input.sk-toggleable__control:checked~label.sk-toggleable__label {background-color: #d4ebff;}#sk-container-id-1 div.sk-label input.sk-toggleable__control:checked~label.sk-toggleable__label {background-color: #d4ebff;}#sk-container-id-1 input.sk-hidden--visually {border: 0;clip: rect(1px 1px 1px 1px);clip: rect(1px, 1px, 1px, 1px);height: 1px;margin: -1px;overflow: hidden;padding: 0;position: absolute;width: 1px;}#sk-container-id-1 div.sk-estimator {font-family: monospace;background-color: #f0f8ff;border: 1px dotted black;border-radius: 0.25em;box-sizing: border-box;margin-bottom: 0.5em;}#sk-container-id-1 div.sk-estimator:hover {background-color: #d4ebff;}#sk-container-id-1 div.sk-parallel-item::after {content: \"\";width: 100%;border-bottom: 1px solid gray;flex-grow: 1;}#sk-container-id-1 div.sk-label:hover label.sk-toggleable__label {background-color: #d4ebff;}#sk-container-id-1 div.sk-serial::before {content: \"\";position: absolute;border-left: 1px solid gray;box-sizing: border-box;top: 0;bottom: 0;left: 50%;z-index: 0;}#sk-container-id-1 div.sk-serial {display: flex;flex-direction: column;align-items: center;background-color: white;padding-right: 0.2em;padding-left: 0.2em;position: relative;}#sk-container-id-1 div.sk-item {position: relative;z-index: 1;}#sk-container-id-1 div.sk-parallel {display: flex;align-items: stretch;justify-content: center;background-color: white;position: relative;}#sk-container-id-1 div.sk-item::before, #sk-container-id-1 div.sk-parallel-item::before {content: \"\";position: absolute;border-left: 1px solid gray;box-sizing: border-box;top: 0;bottom: 0;left: 50%;z-index: -1;}#sk-container-id-1 div.sk-parallel-item {display: flex;flex-direction: column;z-index: 1;position: relative;background-color: white;}#sk-container-id-1 div.sk-parallel-item:first-child::after {align-self: flex-end;width: 50%;}#sk-container-id-1 div.sk-parallel-item:last-child::after {align-self: flex-start;width: 50%;}#sk-container-id-1 div.sk-parallel-item:only-child::after {width: 0;}#sk-container-id-1 div.sk-dashed-wrapped {border: 1px dashed gray;margin: 0 0.4em 0.5em 0.4em;box-sizing: border-box;padding-bottom: 0.4em;background-color: white;}#sk-container-id-1 div.sk-label label {font-family: monospace;font-weight: bold;display: inline-block;line-height: 1.2em;}#sk-container-id-1 div.sk-label-container {text-align: center;}#sk-container-id-1 div.sk-container {/* jupyter's `normalize.less` sets `[hidden] { display: none; }` but bootstrap.min.css set `[hidden] { display: none !important; }` so we also need the `!important` here to be able to override the default hidden behavior on the sphinx rendered scikit-learn.org. See: https://github.com/scikit-learn/scikit-learn/issues/21755 */display: inline-block !important;position: relative;}#sk-container-id-1 div.sk-text-repr-fallback {display: none;}</style><div id=\"sk-container-id-1\" class=\"sk-top-container\"><div class=\"sk-text-repr-fallback\"><pre>XGBRegressor(n_bits={&#x27;op_inputs&#x27;: 6, &#x27;op_leaves&#x27;: 6}, n_estimators=200)</pre><b>In a Jupyter environment, please rerun this cell to show the HTML representation or trust the notebook. <br />On GitHub, the HTML representation is unable to render, please try loading this page with nbviewer.org.</b></div><div class=\"sk-container\" hidden><div class=\"sk-item\"><div class=\"sk-estimator sk-toggleable\"><input class=\"sk-toggleable__control sk-hidden--visually\" id=\"sk-estimator-id-1\" type=\"checkbox\" checked><label for=\"sk-estimator-id-1\" class=\"sk-toggleable__label sk-toggleable__label-arrow\">XGBRegressor</label><div class=\"sk-toggleable__content\"><pre>XGBRegressor(n_bits={&#x27;op_inputs&#x27;: 6, &#x27;op_leaves&#x27;: 6}, n_estimators=200)</pre></div></div></div></div></div>"
            ]
          },
          "metadata": {},
          "execution_count": 6
        }
      ]
    },
    {
      "cell_type": "code",
      "source": [
        "xgb.compile(X_test_scaled[:1000])\n",
        "y_pred = xgb.predict(X_test_scaled[:10000], fhe='simulate')\n",
        "mse = mean_squared_error(y_test[:10000], y_pred)\n",
        "r2 = r2_score(y_test[:10000], y_pred)"
      ],
      "metadata": {
        "id": "7QK3WdAL12M0"
      },
      "execution_count": 7,
      "outputs": []
    },
    {
      "cell_type": "code",
      "source": [
        "print(f'Mean Squared Error: {mse}')\n",
        "print(f'R^2 Score: {r2}')"
      ],
      "metadata": {
        "id": "d462CygMIOI0",
        "outputId": "07236ca0-4675-47ff-b370-18c5fa9e67dc",
        "colab": {
          "base_uri": "https://localhost:8080/"
        }
      },
      "execution_count": 8,
      "outputs": [
        {
          "output_type": "stream",
          "name": "stdout",
          "text": [
            "Mean Squared Error: 78.94772514420299\n",
            "R^2 Score: 0.9398072629719891\n"
          ]
        }
      ]
    },
    {
      "cell_type": "code",
      "source": [
        "plt.plot(y_pred[:24], label='Predicted')\n",
        "plt.plot(y_test[:24], label='Actual')\n",
        "\n",
        "plt.title('Concrete XGB Prediction with FHE')\n",
        "plt.xlabel('Time')\n",
        "plt.ylabel('Value')\n",
        "\n",
        "plt.legend()\n",
        "\n",
        "plt.show()"
      ],
      "metadata": {
        "id": "-40xzc9DQtDM",
        "outputId": "dd02bc14-7dda-45c1-edcd-ec2e4e248394",
        "colab": {
          "base_uri": "https://localhost:8080/",
          "height": 472
        }
      },
      "execution_count": 10,
      "outputs": [
        {
          "output_type": "display_data",
          "data": {
            "text/plain": [
              "<Figure size 640x480 with 1 Axes>"
            ],
            "image/png": "[encoded data removed]"
          },
          "metadata": {}
        }
      ]
    },
    {
      "cell_type": "code",
      "source": [
        "from concrete.ml.deployment import FHEModelDev\n",
        "from tempfile import TemporaryDirectory\n",
        "from shutil import copyfile\n",
        "import os\n",
        "\n",
        "dev_dir = TemporaryDirectory()\n",
        "dev = FHEModelDev(dev_dir.name, xgb)\n",
        "dev.save()\n",
        "\n",
        "dev_dir_path = f'{folder_path}/latest_model'\n",
        "os.makedirs(dev_dir_path, exist_ok=True)\n",
        "\n",
        "copyfile(dev_dir.name + '/client.zip', f'{dev_dir_path}/client.zip')\n",
        "copyfile(dev_dir.name + '/server.zip', f'{dev_dir_path}/server.zip')"
      ],
      "metadata": {
        "id": "RCOIitkPQ8rQ",
        "outputId": "95a77b5e-e9ac-431d-932c-6dd2795f5caa",
        "colab": {
          "base_uri": "https://localhost:8080/",
          "height": 35
        }
      },
      "execution_count": 16,
      "outputs": [
        {
          "output_type": "execute_result",
          "data": {
            "text/plain": [
              "'/content/drive/My Drive/datasets/latest_model/server.zip'"
            ],
            "application/vnd.google.colaboratory.intrinsic+json": {
              "type": "string"
            }
          },
          "metadata": {},
          "execution_count": 16
        }
      ]
    },
    {
      "cell_type": "code",
      "source": [
        "dump(scaler, f'{dev_dir_path}/scaler.pkl')"
      ],
      "metadata": {
        "id": "mUQXxT3jSehG",
        "outputId": "b1f2bff1-8998-42db-df69-a10f07dd44d8",
        "colab": {
          "base_uri": "https://localhost:8080/"
        }
      },
      "execution_count": 17,
      "outputs": [
        {
          "output_type": "execute_result",
          "data": {
            "text/plain": [
              "['/content/drive/My Drive/datasets/latest_model/scaler.pkl']"
            ]
          },
          "metadata": {},
          "execution_count": 17
        }
      ]
    },
    {
      "cell_type": "code",
      "source": [
        "train_df.to_csv(f'{folder_path}/history.csv', index=False)"
      ],
      "metadata": {
        "id": "elgG28rrTVKo"
      },
      "execution_count": 18,
      "outputs": []
    },
    {
      "cell_type": "code",
      "source": [
        "features.append('TotalActiveEnergy')\n",
        "history = train_df[features]\n",
        "history.to_csv(f'{folder_path}/history.csv', index=False)"
      ],
      "metadata": {
        "id": "Va2k63s3WKP-"
      },
      "execution_count": 19,
      "outputs": []
    }
  ],
  "metadata": {
    "colab": {
      "name": "Overview of Colaboratory Features",
      "toc_visible": true,
      "provenance": [],
      "machine_shape": "hm",
      "gpuType": "V28",
      "include_colab_link": true
    },
    "kernelspec": {
      "display_name": "Python 3",
      "name": "python3"
    },
    "accelerator": "TPU"
  },
  "nbformat": 4,
  "nbformat_minor": 0
}